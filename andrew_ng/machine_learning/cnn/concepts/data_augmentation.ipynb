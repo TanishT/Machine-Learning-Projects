{
 "cells": [
  {
   "cell_type": "code",
   "execution_count": 2,
   "metadata": {},
   "outputs": [],
   "source": [
    "import os\n",
    "import tensorflow as tf\n",
    "from tensorflow.keras.preprocessing.image import ImageDataGenerator"
   ]
  },
  {
   "cell_type": "code",
   "execution_count": 3,
   "metadata": {},
   "outputs": [
    {
     "name": "stdout",
     "output_type": "stream",
     "text": [
      "total training cat images: 7000\n",
      "total training dog images: 7000\n",
      "\n",
      "total testing cat images: 700\n",
      "total testing dog images: 700\n"
     ]
    }
   ],
   "source": [
    "#verifying that the images counts have been correctly retrieved for testing and training data for horses and humans\n",
    "train_cats_dir = os.path.join('../homework/cats_vs_dogs_full/train/cats')\n",
    "test_cats_dir = os.path.join('../homework/cats_vs_dogs_full/test/cats')\n",
    "\n",
    "train_dogs_dir = os.path.join('../homework/cats_vs_dogs_full/train/dogs')\n",
    "test_dogs_dir = os.path.join('../homework/cats_vs_dogs_full/test/dogs')\n",
    "\n",
    "print('total training cat images:', len(os.listdir(train_cats_dir)))\n",
    "print('total training dog images:', len(os.listdir(train_dogs_dir)))\n",
    "\n",
    "print('\\ntotal testing cat images:', len(os.listdir(test_cats_dir)))\n",
    "print('total testing dog images:', len(os.listdir(test_dogs_dir)))"
   ]
  },
  {
   "cell_type": "code",
   "execution_count": null,
   "metadata": {},
   "outputs": [],
   "source": [
    "#where augmentation params are specified\n",
    "train_datagen = ImageDataGenerator (\n",
    "    rescale=1./255,\n",
    "    rotation_range=40, #rotates image by a random amount from 0 - 40\n",
    "    width_shift_range=0.2, #horizontally shifts the image\n",
    "    height_shift_range=0.2, #vertically shifts the image\n",
    "    shear_range=0.2,\n",
    "    zoom_range=0.2, #zoom image in up to a scale factor of 0.2\n",
    "    horizontal_flip=True, #augmenting image by reflecting it about the y-axis\n",
    "    fill_mode='nearest' \n",
    ")\n",
    "\n",
    "validation_datagen = ImageDataGenerator ( \n",
    "    rescale=1./255,\n",
    "    rotation_range=40,\n",
    "    width_shift_range=0.2,\n",
    "    height_shift_range=0.2,\n",
    "    shear_range=0.2,\n",
    "    zoom_range=0.2,\n",
    "    horizontal_flip=True,\n",
    "    fill_mode='nearest'\n",
    ")"
   ]
  }
 ],
 "metadata": {
  "kernelspec": {
   "display_name": "tensorflow",
   "language": "python",
   "name": "tensorflow"
  },
  "language_info": {
   "codemirror_mode": {
    "name": "ipython",
    "version": 3
   },
   "file_extension": ".py",
   "mimetype": "text/x-python",
   "name": "python",
   "nbconvert_exporter": "python",
   "pygments_lexer": "ipython3",
   "version": "3.6.10"
  }
 },
 "nbformat": 4,
 "nbformat_minor": 4
}
