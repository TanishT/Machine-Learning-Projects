{
 "cells": [
  {
   "cell_type": "code",
   "execution_count": 1,
   "metadata": {},
   "outputs": [],
   "source": [
    "import os"
   ]
  },
  {
   "cell_type": "code",
   "execution_count": 2,
   "metadata": {},
   "outputs": [
    {
     "name": "stdout",
     "output_type": "stream",
     "text": [
      "['.ipynb_checkpoints', 'callbacks.ipynb', 'convolutions.ipynb', 'edgedetection.ipynb', 'imagedatagenerator.ipynb', 'os_module.ipynb', 'pooling.ipynb']\n"
     ]
    }
   ],
   "source": [
    "print(os.listdir()) #prints out all the files in the current directory you are in"
   ]
  },
  {
   "cell_type": "code",
   "execution_count": 5,
   "metadata": {},
   "outputs": [
    {
     "name": "stdout",
     "output_type": "stream",
     "text": [
      "['.ipynb_checkpoints', 'cats_dogs_full.ipynb', 'cats_vs_dogs', 'cats_vs_dogs.ipynb', 'cats_vs_dogs_full', 'clothes.ipynb', 'cnn_from_scratch.ipynb', 'digits.ipynb', 'digitscnn.ipynb', 'happy_sad', 'horses_vs_humans.ipynb', 'horse_human', 'mnist.npz', 'sampleSubmission.csv', 'test1.zip', 'train.zip']\n"
     ]
    }
   ],
   "source": [
    "os.chdir('../homework') #switching current working directory into homework folder\n",
    "print(os.listdir())"
   ]
  },
  {
   "cell_type": "code",
   "execution_count": 6,
   "metadata": {},
   "outputs": [
    {
     "name": "stdout",
     "output_type": "stream",
     "text": [
      "['.ipynb_checkpoints', 'callbacks.ipynb', 'convolutions.ipynb', 'edgedetection.ipynb', 'imagedatagenerator.ipynb', 'os_module.ipynb', 'pooling.ipynb']\n"
     ]
    }
   ],
   "source": [
    "os.chdir('../concepts') #switching back\n",
    "print(os.listdir())"
   ]
  },
  {
   "cell_type": "code",
   "execution_count": 7,
   "metadata": {},
   "outputs": [],
   "source": [
    "# os.mdir() --> used for only making one folder, not sub folders\n",
    "os.makedirs('os_test/sub_folder') #creating a new folder and sub_folder inside that folder"
   ]
  },
  {
   "cell_type": "code",
   "execution_count": 11,
   "metadata": {},
   "outputs": [
    {
     "name": "stdout",
     "output_type": "stream",
     "text": [
      "['.ipynb_checkpoints', 'callbacks.ipynb', 'convolutions.ipynb', 'edgedetection.ipynb', 'imagedatagenerator.ipynb', 'os_module.ipynb', 'pooling.ipynb']\n"
     ]
    },
    {
     "ename": "FileNotFoundError",
     "evalue": "[WinError 3] The system cannot find the path specified: 'os_test/sub_folder'",
     "output_type": "error",
     "traceback": [
      "\u001b[1;31m---------------------------------------------------------------------------\u001b[0m",
      "\u001b[1;31mFileNotFoundError\u001b[0m                         Traceback (most recent call last)",
      "\u001b[1;32m<ipython-input-11-0f90f82a8fad>\u001b[0m in \u001b[0;36m<module>\u001b[1;34m\u001b[0m\n\u001b[0;32m      1\u001b[0m \u001b[0mprint\u001b[0m\u001b[1;33m(\u001b[0m\u001b[0mos\u001b[0m\u001b[1;33m.\u001b[0m\u001b[0mlistdir\u001b[0m\u001b[1;33m(\u001b[0m\u001b[1;33m)\u001b[0m\u001b[1;33m)\u001b[0m\u001b[1;33m\u001b[0m\u001b[1;33m\u001b[0m\u001b[0m\n\u001b[0;32m      2\u001b[0m \u001b[1;31m# os.rmdir() --> used for removing one folder, not sub folders\u001b[0m\u001b[1;33m\u001b[0m\u001b[1;33m\u001b[0m\u001b[1;33m\u001b[0m\u001b[0m\n\u001b[1;32m----> 3\u001b[1;33m \u001b[0mos\u001b[0m\u001b[1;33m.\u001b[0m\u001b[0mremovedirs\u001b[0m\u001b[1;33m(\u001b[0m\u001b[1;34m'os_test/sub_folder'\u001b[0m\u001b[1;33m)\u001b[0m \u001b[1;31m#removing folder we just created\u001b[0m\u001b[1;33m\u001b[0m\u001b[1;33m\u001b[0m\u001b[0m\n\u001b[0m",
      "\u001b[1;32m~\\AppData\\Local\\Programs\\Python\\Python38-32\\lib\\os.py\u001b[0m in \u001b[0;36mremovedirs\u001b[1;34m(name)\u001b[0m\n\u001b[0;32m    237\u001b[0m \u001b[1;33m\u001b[0m\u001b[0m\n\u001b[0;32m    238\u001b[0m     \"\"\"\n\u001b[1;32m--> 239\u001b[1;33m     \u001b[0mrmdir\u001b[0m\u001b[1;33m(\u001b[0m\u001b[0mname\u001b[0m\u001b[1;33m)\u001b[0m\u001b[1;33m\u001b[0m\u001b[1;33m\u001b[0m\u001b[0m\n\u001b[0m\u001b[0;32m    240\u001b[0m     \u001b[0mhead\u001b[0m\u001b[1;33m,\u001b[0m \u001b[0mtail\u001b[0m \u001b[1;33m=\u001b[0m \u001b[0mpath\u001b[0m\u001b[1;33m.\u001b[0m\u001b[0msplit\u001b[0m\u001b[1;33m(\u001b[0m\u001b[0mname\u001b[0m\u001b[1;33m)\u001b[0m\u001b[1;33m\u001b[0m\u001b[1;33m\u001b[0m\u001b[0m\n\u001b[0;32m    241\u001b[0m     \u001b[1;32mif\u001b[0m \u001b[1;32mnot\u001b[0m \u001b[0mtail\u001b[0m\u001b[1;33m:\u001b[0m\u001b[1;33m\u001b[0m\u001b[1;33m\u001b[0m\u001b[0m\n",
      "\u001b[1;31mFileNotFoundError\u001b[0m: [WinError 3] The system cannot find the path specified: 'os_test/sub_folder'"
     ]
    }
   ],
   "source": [
    "print(os.listdir())\n",
    "# os.rmdir() --> used for removing one folder, not sub folders\n",
    "os.removedirs('os_test/sub_folder') #removing folder we just created"
   ]
  },
  {
   "cell_type": "code",
   "execution_count": 12,
   "metadata": {},
   "outputs": [],
   "source": [
    "os.rename('test.txt', 'demo.txt') #renaming text.txt file to demo.txt"
   ]
  },
  {
   "cell_type": "code",
   "execution_count": 21,
   "metadata": {},
   "outputs": [
    {
     "name": "stdout",
     "output_type": "stream",
     "text": [
      "current path:  ../../octave\n",
      "directories:  ['linear_algebra', 'octave_basics', 'octave_machine-learning']\n",
      "files:  []\n",
      "\n",
      "current path:  ../../octave\\linear_algebra\n",
      "directories:  []\n",
      "files:  ['advanced_matrix_multiplication.m', 'basic_matrix_multiplication.m', 'identity_matrix.m', 'inverse_transpose.m', 'matrices_vectors_basics.m']\n",
      "\n",
      "current path:  ../../octave\\octave_basics\n",
      "directories:  []\n",
      "files:  ['ex1data1.txt', 'ex1data2.txt', 'graphs.m', 'loading_data.m', 'operations.m']\n",
      "\n",
      "current path:  ../../octave\\octave_machine-learning\n",
      "directories:  ['ex1', 'ex2', 'ex3', 'ex4', 'ex5', 'ex6', 'ex7', 'ex8']\n",
      "files:  ['.MATLABDriveTag', 'README.mlx']\n",
      "\n",
      "current path:  ../../octave\\octave_machine-learning\\ex1\n",
      "directories:  ['lib']\n",
      "files:  ['.MATLABDriveTag', 'computeCost.m', 'computeCostMulti.m', 'ex1.mlx', 'ex1data1.txt', 'ex1data2.txt', 'ex1_companion.mlx', 'featureNormalize.m', 'gradientDescent.m', 'gradientDescentMulti.m', 'normalEqn.m', 'plotData.m', 'submit.m', 'warmUpExercise.m']\n",
      "\n",
      "current path:  ../../octave\\octave_machine-learning\\ex1\\lib\n",
      "directories:  ['jsonlab']\n",
      "files:  ['.MATLABDriveTag', 'makeValidFieldName.m', 'submitWithConfiguration.m']\n",
      "\n",
      "current path:  ../../octave\\octave_machine-learning\\ex1\\lib\\jsonlab\n",
      "directories:  []\n",
      "files:  ['.MATLABDriveTag', 'AUTHORS.txt', 'ChangeLog.txt', 'jsonopt.m', 'LICENSE_BSD.txt', 'loadjson.m', 'loadubjson.m', 'mergestruct.m', 'README.txt', 'savejson.m', 'saveubjson.m', 'varargin2struct.m']\n",
      "\n",
      "current path:  ../../octave\\octave_machine-learning\\ex2\n",
      "directories:  ['lib']\n",
      "files:  ['.MATLABDriveTag', 'costFunction.m', 'costFunctionReg.m', 'ex2.mlx', 'ex2data1.txt', 'ex2data2.txt', 'ex2_companion.mlx', 'mapFeature.m', 'plotData.m', 'plotDecisionBoundary.m', 'predict.m', 'sigmoid.m', 'submit.m']\n",
      "\n",
      "current path:  ../../octave\\octave_machine-learning\\ex2\\lib\n",
      "directories:  ['jsonlab']\n",
      "files:  ['.MATLABDriveTag', 'makeValidFieldName.m', 'submitWithConfiguration.m']\n",
      "\n",
      "current path:  ../../octave\\octave_machine-learning\\ex2\\lib\\jsonlab\n",
      "directories:  []\n",
      "files:  ['.MATLABDriveTag', 'AUTHORS.txt', 'ChangeLog.txt', 'jsonopt.m', 'LICENSE_BSD.txt', 'loadjson.m', 'loadubjson.m', 'mergestruct.m', 'README.txt', 'savejson.m', 'saveubjson.m', 'varargin2struct.m']\n",
      "\n",
      "current path:  ../../octave\\octave_machine-learning\\ex3\n",
      "directories:  ['lib']\n",
      "files:  ['.MATLABDriveTag', 'displayData.m', 'ex3.mlx', 'ex3data1.mat', 'ex3weights.mat', 'ex3_companion.mat', 'ex3_companion.mlx', 'fmincg.m', 'lrCostFunction.m', 'oneVsAll.m', 'predict.m', 'predictOneVsAll.m', 'sigmoid.m', 'submit.m']\n",
      "\n",
      "current path:  ../../octave\\octave_machine-learning\\ex3\\lib\n",
      "directories:  ['jsonlab']\n",
      "files:  ['.MATLABDriveTag', 'makeValidFieldName.m', 'submitWithConfiguration.m']\n",
      "\n",
      "current path:  ../../octave\\octave_machine-learning\\ex3\\lib\\jsonlab\n",
      "directories:  []\n",
      "files:  ['.MATLABDriveTag', 'AUTHORS.txt', 'ChangeLog.txt', 'jsonopt.m', 'LICENSE_BSD.txt', 'loadjson.m', 'loadubjson.m', 'mergestruct.m', 'README.txt', 'savejson.m', 'saveubjson.m', 'varargin2struct.m']\n",
      "\n",
      "current path:  ../../octave\\octave_machine-learning\\ex4\n",
      "directories:  ['lib']\n",
      "files:  ['.MATLABDriveTag', 'checkNNGradients.m', 'computeNumericalGradient.m', 'debugInitializeWeights.m', 'displayData.m', 'ex4.mlx', 'ex4data1.mat', 'ex4weights.mat', 'ex4_companion.mlx', 'fmincg.m', 'nnCostFunction.m', 'predict.m', 'randInitializeWeights.m', 'sigmoid.m', 'sigmoidGradient.m', 'submit.m']\n",
      "\n",
      "current path:  ../../octave\\octave_machine-learning\\ex4\\lib\n",
      "directories:  ['jsonlab']\n",
      "files:  ['.MATLABDriveTag', 'makeValidFieldName.m', 'submitWithConfiguration.m']\n",
      "\n",
      "current path:  ../../octave\\octave_machine-learning\\ex4\\lib\\jsonlab\n",
      "directories:  []\n",
      "files:  ['.MATLABDriveTag', 'AUTHORS.txt', 'ChangeLog.txt', 'jsonopt.m', 'LICENSE_BSD.txt', 'loadjson.m', 'loadubjson.m', 'mergestruct.m', 'README.txt', 'savejson.m', 'saveubjson.m', 'varargin2struct.m']\n",
      "\n",
      "current path:  ../../octave\\octave_machine-learning\\ex5\n",
      "directories:  ['lib']\n",
      "files:  ['.MATLABDriveTag', 'ex5.mlx', 'ex5data1.mat', 'ex5_companion.mlx', 'featureNormalize.m', 'fmincg.m', 'learningCurve.m', 'linearRegCostFunction.m', 'plotFit.m', 'polyFeatures.m', 'submit.m', 'trainLinearReg.m', 'validationCurve.m']\n",
      "\n",
      "current path:  ../../octave\\octave_machine-learning\\ex5\\lib\n",
      "directories:  ['jsonlab']\n",
      "files:  ['.MATLABDriveTag', 'makeValidFieldName.m', 'submitWithConfiguration.m']\n",
      "\n",
      "current path:  ../../octave\\octave_machine-learning\\ex5\\lib\\jsonlab\n",
      "directories:  []\n",
      "files:  ['.MATLABDriveTag', 'AUTHORS.txt', 'ChangeLog.txt', 'jsonopt.m', 'LICENSE_BSD.txt', 'loadjson.m', 'loadubjson.m', 'mergestruct.m', 'README.txt', 'savejson.m', 'saveubjson.m', 'varargin2struct.m']\n",
      "\n",
      "current path:  ../../octave\\octave_machine-learning\\ex6\n",
      "directories:  ['lib']\n",
      "files:  ['.MATLABDriveTag', 'dataset3Params.m', 'emailFeatures.m', 'emailSample1.txt', 'emailSample2.txt', 'ex6.mlx', 'ex6data1.mat', 'ex6data2.mat', 'ex6data3.mat', 'ex6_companion.mlx', 'gaussianKernel.m', 'getVocabList.m', 'linearKernel.m', 'plotData.m', 'porterStemmer.m', 'processEmail.m', 'readFile.m', 'spamSample1.txt', 'spamSample2.txt', 'spamTest.mat', 'spamTrain.mat', 'submit.m', 'svmPredict.m', 'svmTrain.m', 'visualizeBoundary.m', 'visualizeBoundaryLinear.m', 'vocab.txt']\n",
      "\n",
      "current path:  ../../octave\\octave_machine-learning\\ex6\\lib\n",
      "directories:  ['jsonlab']\n",
      "files:  ['.MATLABDriveTag', 'makeValidFieldName.m', 'submitWithConfiguration.m']\n",
      "\n",
      "current path:  ../../octave\\octave_machine-learning\\ex6\\lib\\jsonlab\n",
      "directories:  []\n",
      "files:  ['.MATLABDriveTag', 'AUTHORS.txt', 'ChangeLog.txt', 'jsonopt.m', 'LICENSE_BSD.txt', 'loadjson.m', 'loadubjson.m', 'mergestruct.m', 'README.txt', 'savejson.m', 'saveubjson.m', 'varargin2struct.m']\n",
      "\n",
      "current path:  ../../octave\\octave_machine-learning\\ex7\n",
      "directories:  ['lib']\n",
      "files:  ['.MATLABDriveTag', 'bird_small.mat', 'bird_small.png', 'computeCentroids.m', 'displayData.m', 'drawLine.m', 'ex7.mlx', 'ex7data1.mat', 'ex7data2.mat', 'ex7faces.mat', 'ex7_companion.mlx', 'featureNormalize.m', 'findClosestCentroids.m', 'kMeansInitCentroids.m', 'pca.m', 'plotDataPoints.m', 'plotProgresskMeans.m', 'projectData.m', 'recoverData.m', 'runkMeans.m', 'submit.m']\n",
      "\n",
      "current path:  ../../octave\\octave_machine-learning\\ex7\\lib\n",
      "directories:  ['jsonlab']\n",
      "files:  ['.MATLABDriveTag', 'makeValidFieldName.m', 'submitWithConfiguration.m']\n",
      "\n",
      "current path:  ../../octave\\octave_machine-learning\\ex7\\lib\\jsonlab\n",
      "directories:  []\n",
      "files:  ['.MATLABDriveTag', 'AUTHORS.txt', 'ChangeLog.txt', 'jsonopt.m', 'LICENSE_BSD.txt', 'loadjson.m', 'loadubjson.m', 'mergestruct.m', 'README.txt', 'savejson.m', 'saveubjson.m', 'varargin2struct.m']\n",
      "\n",
      "current path:  ../../octave\\octave_machine-learning\\ex8\n",
      "directories:  ['lib']\n",
      "files:  ['.MATLABDriveTag', 'checkCostFunction.m', 'cofiCostFunc.m', 'computeNumericalGradient.m', 'estimateGaussian.m', 'ex8.mlx', 'ex8data1.mat', 'ex8data2.mat', 'ex8_companion1.mlx', 'ex8_companion2.mlx', 'ex8_movieParams.mat', 'ex8_movies.mat', 'fmincg.m', 'loadMovieList.m', 'movie_ids.txt', 'multivariateGaussian.m', 'normalizeRatings.m', 'selectThreshold.m', 'submit.m', 'visualizeFit.m']\n",
      "\n",
      "current path:  ../../octave\\octave_machine-learning\\ex8\\lib\n",
      "directories:  ['jsonlab']\n",
      "files:  ['.MATLABDriveTag', 'makeValidFieldName.m', 'submitWithConfiguration.m']\n",
      "\n",
      "current path:  ../../octave\\octave_machine-learning\\ex8\\lib\\jsonlab\n",
      "directories:  []\n",
      "files:  ['.MATLABDriveTag', 'AUTHORS.txt', 'ChangeLog.txt', 'jsonopt.m', 'LICENSE_BSD.txt', 'loadjson.m', 'loadubjson.m', 'mergestruct.m', 'README.txt', 'savejson.m', 'saveubjson.m', 'varargin2struct.m']\n",
      "\n"
     ]
    }
   ],
   "source": [
    "#travesing directory system with os.walk\n",
    "for dirpath, dirnames, filenames in os.walk('../../octave'):\n",
    "    print('current path: ', dirpath)\n",
    "    print('directories: ', dirnames)\n",
    "    print('files: ', filenames)\n",
    "    print()"
   ]
  }
 ],
 "metadata": {
  "kernelspec": {
   "display_name": "Python 3.8.0 32-bit",
   "language": "python",
   "name": "python38032bitf89af38f6aed4e70b8738a99152d0208"
  },
  "language_info": {
   "codemirror_mode": {
    "name": "ipython",
    "version": 3
   },
   "file_extension": ".py",
   "mimetype": "text/x-python",
   "name": "python",
   "nbconvert_exporter": "python",
   "pygments_lexer": "ipython3",
   "version": "3.8.0"
  }
 },
 "nbformat": 4,
 "nbformat_minor": 4
}
