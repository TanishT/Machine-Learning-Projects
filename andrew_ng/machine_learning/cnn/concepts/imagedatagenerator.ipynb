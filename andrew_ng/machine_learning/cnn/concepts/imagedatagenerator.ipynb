{
 "cells": [
  {
   "cell_type": "code",
   "execution_count": 1,
   "metadata": {},
   "outputs": [],
   "source": [
    "from tensorflow.keras.preprocessing.image import ImageDataGenerator"
   ]
  },
  {
   "cell_type": "code",
   "execution_count": null,
   "metadata": {},
   "outputs": [],
   "source": [
    "train_data = ImageDataGenerator(rescale = 1./ 255)\n",
    "test_data = ImageDataGenerator(rescale = 1./ 255)\n",
    "\n",
    "#loader for training images\n",
    "train_generator = train_data.flow_from_directory(\n",
    "    train_dir, #put either train or test data folder in this spot\n",
    "    target_size = (300, 300), #resizing images to a certain size\n",
    "    batch_size = 128, #loads data into batches of 128 images\n",
    "    class_mode = 'binary' #specifying binary classifier\n",
    ")\n",
    "\n",
    "#loader for testing images\n",
    "test_generator = test_data.flow_from_directory(\n",
    "    test_dir, #put either train or test data folder in this spot\n",
    "    target_size = (300, 300), #resizing images to a certain size\n",
    "    batch_size = 32, #loads data into batches of 128 images\n",
    "    class_mode = 'binary'\n",
    ")"
   ]
  },
  {
   "cell_type": "code",
   "execution_count": 3,
   "metadata": {},
   "outputs": [
    {
     "ename": "NameError",
     "evalue": "name 'model' is not defined",
     "output_type": "error",
     "traceback": [
      "\u001b[1;31m---------------------------------------------------------------------------\u001b[0m",
      "\u001b[1;31mNameError\u001b[0m                                 Traceback (most recent call last)",
      "\u001b[1;32m<ipython-input-3-d2c43c1dd0e9>\u001b[0m in \u001b[0;36m<module>\u001b[1;34m\u001b[0m\n\u001b[0;32m      1\u001b[0m \u001b[1;31m#training model after loading data in using an image generator\u001b[0m\u001b[1;33m\u001b[0m\u001b[1;33m\u001b[0m\u001b[1;33m\u001b[0m\u001b[0m\n\u001b[1;32m----> 2\u001b[1;33m history = model.fit_generator (\n\u001b[0m\u001b[0;32m      3\u001b[0m     \u001b[0mtrain_generator\u001b[0m\u001b[1;33m,\u001b[0m\u001b[1;33m\u001b[0m\u001b[1;33m\u001b[0m\u001b[0m\n\u001b[0;32m      4\u001b[0m     \u001b[0msteps_per_epoch\u001b[0m \u001b[1;33m=\u001b[0m \u001b[1;36m8\u001b[0m\u001b[1;33m,\u001b[0m \u001b[1;31m#specifies how many batches we are going to need to load in total train data\u001b[0m\u001b[1;33m\u001b[0m\u001b[1;33m\u001b[0m\u001b[0m\n\u001b[0;32m      5\u001b[0m                          \u001b[1;31m#we have 1024 images, and a batch size of 128, so 1024 / 128 = 8\u001b[0m\u001b[1;33m\u001b[0m\u001b[1;33m\u001b[0m\u001b[1;33m\u001b[0m\u001b[0m\n",
      "\u001b[1;31mNameError\u001b[0m: name 'model' is not defined"
     ]
    }
   ],
   "source": [
    "#training model after loading data in using an image generator\n",
    "history = model.fit_generator (\n",
    "    train_generator,\n",
    "    steps_per_epoch = 8, #specifies how many batches we are going to need to load in total train data\n",
    "                         #we have 1024 images, and a batch size of 128, so 1024 / 128 = 8\n",
    "    epochs = 15,\n",
    "    validation_data = test_generator,\n",
    "    validation_steps = 8, #specifies how many batches we are going to need to load in total test data\n",
    "                          #we have 256 images, and a batch size of 32, so 256 / 32 = 8\n",
    "    verbose = 2 #specifies how much info to display when training, with verbose = 2, we get less data about epoch progress\n",
    ")"
   ]
  },
  {
   "cell_type": "code",
   "execution_count": null,
   "metadata": {},
   "outputs": [],
   "source": []
  }
 ],
 "metadata": {
  "kernelspec": {
   "display_name": "tensorflow",
   "language": "python",
   "name": "tensorflow"
  },
  "language_info": {
   "codemirror_mode": {
    "name": "ipython",
    "version": 3
   },
   "file_extension": ".py",
   "mimetype": "text/x-python",
   "name": "python",
   "nbconvert_exporter": "python",
   "pygments_lexer": "ipython3",
   "version": "3.6.10"
  }
 },
 "nbformat": 4,
 "nbformat_minor": 4
}
